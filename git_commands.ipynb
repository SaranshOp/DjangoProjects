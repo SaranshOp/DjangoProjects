{
 "cells": [
  {
   "cell_type": "markdown",
   "metadata": {},
   "source": [
    "When all setup is done, only these two are needed :\n",
    "\n",
    "```bash\n",
    "cf project\n",
    "git pull origin [branch]\n",
    "#eg : git pull origin main\n",
    "# make changes\n",
    "\n",
    "git status \n",
    "git add .\n",
    "git commit -m \" message \"\n",
    "# git add and commit can be done in one step\n",
    "# git commit -am \" message \"\n",
    "git push origin main\n",
    "```"
   ]
  },
  {
   "cell_type": "markdown",
   "metadata": {},
   "source": [
    "https://www.perplexity.ai/search/i-have-i-have-two-laptops-and-IiD2BjHBQdOhzhHh9E2mWg\n",
    "notes in the end of the thread.\n",
    "\n",
    "SETUP\n",
    "```bash\n",
    "git config --global user.name \"username\"    # Set username for all repositories\n",
    "git config --global user.email \"email\"      # Set email for all repositories\n",
    "git config --list                           # View all configurations\n",
    "```\n",
    "\n",
    "BASIC COMMANDS\n",
    "```bash\n",
    "\n",
    "git init                                    # Initialize new repository\n",
    "git clone [url]                            # Clone existing repository\n",
    "git remote add origin [url]                # Connect to remote repository\n",
    "git remote -v                              # List remote connections\n",
    "\n",
    "git push origin [branch]                  # Upload changes to remote\n",
    "git pull origin [branch]                  # Download changes from remote\n",
    "```"
   ]
  },
  {
   "cell_type": "markdown",
   "metadata": {},
   "source": []
  },
  {
   "cell_type": "markdown",
   "metadata": {},
   "source": [
    "WHEN … or create a new repository on the command line\n",
    "\n",
    "```bash\n",
    "echo \"# REPO_NAME\" >> README.md  \n",
    "git init    \n",
    "git add README.md   \n",
    "git commit -m \"first commit\"    \n",
    "git branch -M main  \n",
    "git remote add origin https://github.com/SaranshOp/     \n",
    "git push -u origin main\n",
    "```"
   ]
  },
  {
   "cell_type": "markdown",
   "metadata": {},
   "source": [
    "WHEN …or push an existing repository from the command line\n",
    "\n",
    "```bash\n",
    "git remote add origin https://github.com/SaranshOp\n",
    "git branch -M main\n",
    "git push -u origin main\n",
    "```"
   ]
  },
  {
   "cell_type": "markdown",
   "metadata": {},
   "source": [
    "In case of error about \"no tracking information\" means your local branch isn't configured to track the remote branch. You can fix this by running the following command:\n",
    "\n",
    "```bash \n",
    "git branch --set-upstream-to=origin/main main\n",
    "```\n",
    "\n",
    "In case of Error : `fatal: refusing to merge unrelated histories`\n",
    "\n",
    "```bash\n",
    "git pull origin main --allow-unrelated-histories\n",
    "```\n",
    "Finally, push your changes:\n",
    "```bash\n",
    "git push origin main\n",
    "```"
   ]
  },
  {
   "cell_type": "markdown",
   "metadata": {},
   "source": [
    "WHEN you are working on a new feature\n",
    "```bash\n",
    "git checkout -b [branch]                   # Create new branch and switch to it\n",
    "git branch                                 # List all branches\n",
    "git checkout [branch]                      # Switch to existing branch\n",
    "git merge [branch]                         # Merge branch into current branch\n",
    "git branch -d [branch]                     # Delete branch\n",
    "```\n",
    "\n",
    "WHEN you are working on a new feature\n",
    "```bash\n",
    "git add [file]                             # Add file to staging area\n",
    "git commit -m \"message\"                    # Commit changes\n",
    "git status                                 # View status of working directory\n",
    "git log                                    # View commit history\n",
    "```\n",
    "\n",
    "WHEN you want to undo changes\n",
    "```bash\n",
    "git checkout -- [file]                     # Discard changes in working directory\n",
    "git reset [file]                           # Unstage file\n",
    "git reset --hard                           # Discard all changes\n",
    "```\n",
    "\n",
    "WHEN you want to work with others\n",
    "```bash\n",
    "git fetch                                  # Download changes from remote\n",
    "git merge origin/[branch]                  # Merge remote changes into current branch\n",
    "git push origin --delete [branch]          # Delete remote branch\n",
    "```"
   ]
  }
 ],
 "metadata": {
  "kernelspec": {
   "display_name": ".venv",
   "language": "python",
   "name": "python3"
  },
  "language_info": {
   "name": "python",
   "version": "3.11.3"
  }
 },
 "nbformat": 4,
 "nbformat_minor": 2
}
