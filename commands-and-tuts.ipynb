{
 "cells": [
  {
   "cell_type": "markdown",
   "metadata": {},
   "source": [
    "***save all in vscode*** <br>\n",
    "***ctrl + k then s.*** <br>\n",
    "\n",
    "\n"
   ]
  },
  {
   "cell_type": "markdown",
   "metadata": {},
   "source": [
    "playlist : Chai aur Django <br>\n",
    "video : add tailwindcss to django project <br>\n",
    "> run all of these commands inside the venv. <br>\n",
    "look at django-tailwind pypi repo:\n",
    "we were using uv but it is not used a lot in production. <br>\n",
    "we will use some workarounds, acivate the venv, then\n",
    "> uv pip install django-tailwind <br>\n",
    "> uv pip install 'django-tailwind[reload]' -> this is for live reload , but it may audit only 1 pakage which is not good. <br>\n",
    "now we will do some solution to install pip and use that. <br>\n",
    "> python -m ensurepip --upgrade <br>\n",
    "> python -m pip install --upgrade pip<br>\n",
    "somtimes use both of these commands. <br>\n",
    "> pip install 'django-tailwind[reload]' <br>\n",
    "\n",
    "now we will add tailwindcss to the project. <br>\n",
    "in settings.py file, add 'tailwind' to the installed apps. <br>\n",
    "> python manage.py tailwind innit  # dowload the tailwindcss files. <br>\n",
    "add the dafualt 'theme' app to the setting.py > installed apps. <br>\n",
    "\n",
    "add a TAILWIND_APP_NAME = 'theme' to the settings.py file. <br>\n",
    "we are going to use two servers, one for the django and one for the tailwindcss. therefore      \n",
    "add INTERNAL_IPS = ['127.XXXX'] too <br>\n",
    "\n",
    "> pyhton manage.py tailwind install <br>\n",
    "\n"
   ]
  },
  {
   "cell_type": "markdown",
   "metadata": {},
   "source": [
    "inside theme > templates > base.html <br> \n",
    "line 1 : {% load tailwindcss %} <br>\n",
    "line 9 : {% tailwind_css 'styles.css' %} <br>\n",
    "add these lines to the layout.html in your other mains apps file. <br>\n",
    "\n",
    "let's see error in the terminal. <br>\n",
    "> python manage.py runserver <br>\n",
    "\n",
    "in our index.html file, we will add some tailwindcss classes. <br>\n",
    "> add tailwind intellesense extension to the vscode. <br>\n",
    "> add this code <h3 class=\"text-4xl text-center text-blue-500\">Hello, World!</h3> <br>\n",
    "reload and you do not see the changes. <br>\n",
    "\n",
    "open a new terminal and activate the venv<br>\n",
    "rename and color the terminal reason : productivity. <br>\n",
    "> python manage.py tailwind start <br>\n",
    "restart our backend inital server. <br>\n",
    "see changes.\n",
    "maybe some error or ayways, we will add\n",
    "NPM_BIN_PATH = (run 'npm bin' in terminal to get that path) to the settings.py file. <br>\n",
    "we need node instlled for above. <br> \n",
    "in windows, there are two path we need the cmd one.     <br>\n",
    "\n",
    "add a app 'django-browser-reload' to the installed apps in the settings.py file. <br>\n",
    "\n",
    "add middleware to the settings.py file. \"django_browser_reload.middleware.BrowserReloadMiddleware\" <br>\n",
    "\n",
    "in urls.py file of main app, add the path to the browser_reload. <br>\n",
    "> path(\"__reload__/\", include(\"django_browser_reload.urls\")), <br>\n",
    "in during the prod you will remove this. this is a heavy path <br>  \n",
    "\n",
    "now it should work add tailwind and test \n",
    "\n"
   ]
  },
  {
   "cell_type": "markdown",
   "metadata": {},
   "source": [
    "### admin panels\n",
    "very configurable, and browser compatible. <br>\n",
    "we can find a lot of admin templates easy to use customizable, online <br>\n",
    "directly can talk with models, and can be used for the users. CRUD operations. <br>\n",
    "\n",
    "> python manage.py runserver <br>\n",
    "> python manage.py migrate <br>\n",
    "/admin <br>\n",
    "we get a pre cooked admin panel. <br>\n",
    "and auth and other things we can see in settings.py file. <br>\n",
    "> python manage.py createsuperuser <br>\n",
    "write the username, email, password. <br>\n",
    "run the server and go to the admin panel. you can see the users and add etc. \n",
    "add groups and permissions, and other things. <br>\n",
    "integration with the models. <br>\n",
    " \n"
   ]
  },
  {
   "cell_type": "markdown",
   "metadata": {},
   "source": [
    "https://www.youtube.com/watch?v=wf_3Jqqli1c&list=PLu71SKxNbfoDOf-6vAcKmazT92uLnWAgy&index=6\n",
    "### add models and urls in Django\n",
    "\n",
    "reset user admin password. <br>\n",
    "> python manage.py changepassword username <br>\n",
    "\n",
    "we usually use the models in the models.py file. inside our apps. like 'chair' app.<br>\n",
    "\n",
    "see settings.py file, and check out databases. <br>\n",
    "\n",
    "you can study the models in the django documentation. <br>\n",
    "\n",
    "to work with users we add from django.contrib.auth.models import User <br>\n",
    "\n",
    "in models.py file, we will add a class. <br>\n",
    "> class ChaiVareity(models.Model): <br>\n",
    "add some fields to the class. <br>\n",
    "for images we need to install pillow and add MEDIA_URL and MEDIA_ROOT to the settings.py file. <br>\n",
    "also add the media url to the root project urls.py file. <br>\n",
    "from django.conf import settings <br>\n",
    "from django.conf.urls.static import static <br>\n",
    "add this to the urlpatterns. <br>\n",
    "> urlpatterns += static(settings.MEDIA_URL, document_root=settings.MEDIA_ROOT) <br>"
   ]
  },
  {
   "cell_type": "markdown",
   "metadata": {},
   "source": [
    "after adding the fields, we need to migrate the changes. <br>\n",
    "> python manage.py makemigrations chai <br>\n",
    "do the migrations for the app as someone other can be making changes to another app. <br>\n",
    "in admin.py file, we will add the class to the admin panel. <br>\n",
    "> from .models import ChaiVareity <br>\n",
    "> admin.site.register(ChaiVareity) <br>\n",
    "\n",
    "> python manage.py runserver <br>\n",
    "now we can see the chai vareity in the admin panel. <br>\n",
    "configure and add the chai vareity. <br>\n",
    "\n",
    "in the models.py file, we will add a dunder string method to the class. <br>\n",
    "> def __str__(self): <br>\n",
    "> return self.name <br>\n",
    "this will return the name of the chai vareity. <br>\n",
    "\n",
    "like this we can add the models and use them in the admin panel. <br>\n"
   ]
  },
  {
   "cell_type": "markdown",
   "metadata": {},
   "source": [
    "### now we will bring allchai vareities to the front end. <br>\n",
    "\n",
    "in views.py file, we will add a function to get all the chai vareities. <br>\n",
    "> from .models import ChaiVareity <br>\n",
    "> def all_chai(request): <br>\n",
    "> chaim = ChaiVareity.objects.all() <br>\n",
    "> return render(request, 'chai/all_chai.html', {'chaim': chaim}) <br>\n",
    "\n",
    "in the urls.py file of the app, we will add the path to the function. <br>\n",
    "> path('allchai/', views.all_chai, name='allchai'), <br>\n",
    "\n",
    "in the templates folder of the app, we will add a new folder 'chai' and add a new file 'all_chai.html' <br>\n",
    "in the file, we will add some html code. <br>\n",
    "and inside a block content, we will add a for loop to get all the chai vareities. <br>\n",
    "> {% for chai in chaim %} <br>\n",
    "> div class=\"card\"> <br> \n",
    "> img src=\"{{ chai.image.url }}\" alt=\"{{ chai.name }}\" class=\"card-img-top\"> <br>\n",
    "> div class=\"card-body\"> <br>\n",
    "> {% endfor %} <br>\n",
    "\n",
    "make sure this is added into the layout.html file. <br>\n",
    "> {% block content %} <br>\n",
    "> {% endblock %} <br>\n",
    "\n",
    "doo add tailwind etc styles etc with the classes, you need !  <br>\n",
    "\n",
    "[Youtube Video for ahead](https://youtu.be/wf_3Jqqli1c?si=o60HPL-diifZzEdq&t=1604)\n"
   ]
  },
  {
   "cell_type": "code",
   "execution_count": null,
   "metadata": {},
   "outputs": [],
   "source": [
    "# incomplete work above"
   ]
  },
  {
   "cell_type": "markdown",
   "metadata": {},
   "source": [
    "## forms in Django\n",
    "we can use the forms to get the data from the user. <br>\n",
    "we can use the forms to validate the data. <br>\n",
    "we can use the forms to save the data to the database. <br>\n",
    "\n",
    "\n",
    "\n"
   ]
  }
 ],
 "metadata": {
  "kernelspec": {
   "display_name": "Python 3",
   "language": "python",
   "name": "python3"
  },
  "language_info": {
   "name": "python",
   "version": "3.11.3"
  }
 },
 "nbformat": 4,
 "nbformat_minor": 2
}
